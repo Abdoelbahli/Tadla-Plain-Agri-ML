{
 "cells": [
  {
   "cell_type": "markdown",
   "metadata": {},
   "source": [
    "# Phase 2: Soil Moisture Prediction with CNN and Remote Sensing Data"
   ]
  },
  {
   "cell_type": "markdown",
   "metadata": {},
   "source": [
    "### Step 1: Setup Environment"
   ]
  },
  {
   "cell_type": "code",
   "execution_count": null,
   "metadata": {},
   "outputs": [],
   "source": [
    "import os\n",
    "import numpy as np\n",
    "import pandas as pd\n",
    "import matplotlib.pyplot as plt\n",
    "import rasterio\n",
    "import tensorflow as tf\n",
    "from tensorflow.keras import layers, models\n",
    "from sklearn.model_selection import train_test_split\n",
    "from sklearn.metrics import mean_squared_error, mean_absolute_error\n",
    "from pathlib import Path\n",
    "import yaml\n",
    "import xarray as xr\n",
    "import geopandas as gpd\n",
    "import earthpy.plot as ep\n",
    "from sklearn.preprocessing import MinMaxScaler\n",
    "import json\n",
    "\n",
    "# Set seed for reproducibility\n",
    "tf.random.set_seed(42)\n",
    "np.random.seed(42)"
   ]
  },
  {
   "cell_type": "markdown",
   "metadata": {},
   "source": [
    "### Step 2: Load Processed Data"
   ]
  },
  {
   "cell_type": "code",
   "execution_count": null,
   "metadata": {},
   "outputs": [],
   "source": [
    "# -----------------------------------------------------------------------------\n",
    "# Load config.yml\n",
    "# -----------------------------------------------------------------------------\n",
    "\n",
    "# Get project root (adjust based on your folder depth)\n",
    "current_dir = Path(os.getcwd())\n",
    "project_root = current_dir.parent\n",
    "with open(project_root / \"config.yml\", \"r\") as f:\n",
    "    config = yaml.safe_load(f)\n",
    "\n",
    "# -----------------------------------------------------------------------------\n",
    "# Construct paths\n",
    "# -----------------------------------------------------------------------------\n",
    "processed_dir = project_root / Path(config['paths']['processed_data'])\n",
    "soil_dir = processed_dir / \"GIS/Soil\" # Soil data directory: clay, sand, silt, ocd, wv0110\n",
    "dem_path = processed_dir / \"GIS/Topography/tadla_dem_10m.tif\" \n",
    "slope_path = processed_dir / \"GIS/Topography/tadla_slope.tif\"\n",
    "aspect_path = processed_dir / \"GIS/Topography/tadla_aspect.tif\"\n",
    "rainfall_dir = processed_dir / \"Weather/CHIRPS_Annual\" # Rainfall data directory: chirps from 2017 to 2023, 1 file per year with 12 bands\n",
    "evapotranspiration_dir = processed_dir / \"Weather/ERA5_Annual\" # Evapotranspiration data directory: era5 from 2017 to 2023, 1 file per year with 12 bands\n",
    "boundaries_dir = processed_dir / \"GIS/Study_Area_Boundary\" \n",
    "ndvi_dir = processed_dir / \"GIS/Land_Use\" # NDVI data directory: ndvi from 2017 to 2023, 1 file per year with 12 bands"
   ]
  },
  {
   "cell_type": "code",
   "execution_count": null,
   "metadata": {},
   "outputs": [],
   "source": [
    "def load_raster(path, band=None):\n",
    "    \"\"\"Load raster data with validation\"\"\"\n",
    "    try:\n",
    "        with rasterio.open(path) as src:\n",
    "            if band is not None:\n",
    "                data = src.read(band)\n",
    "                if src.count < band:\n",
    "                    raise ValueError(f\"Band {band} not found in {path.name}\")\n",
    "            else:\n",
    "                data = src.read()\n",
    "            return np.squeeze(data)  # Remove singleton dimensions\n",
    "    except FileNotFoundError:\n",
    "        raise FileNotFoundError(f\"Critical file missing: {path}\") from None\n",
    "    except Exception as e:\n",
    "        raise RuntimeError(f\"Error loading {path}: {str(e)}\") from e\n"
   ]
  },
  {
   "cell_type": "code",
   "execution_count": null,
   "metadata": {},
   "outputs": [],
   "source": [
    "# Load static features\n",
    "print(\"Loading static features...\")\n",
    "dem = load_raster(dem_path, 1)        # Elevation [m]\n",
    "slope = load_raster(slope_path, 1)    # Slope [degrees]\n",
    "aspect = load_raster(aspect_path, 1)  # Aspect [degrees]"
   ]
  },
  {
   "cell_type": "code",
   "execution_count": null,
   "metadata": {},
   "outputs": [],
   "source": [
    "# Load soil properties (all 10m resolution)\n",
    "print(\"\\nLoading soil properties...\")\n",
    "soil_layers = {\n",
    "    'clay': load_raster(soil_dir / \"tadla_clay_10m.tif\", 1),    # [%]\n",
    "    'silt': load_raster(soil_dir / \"tadla_silt_10m.tif\", 1),     # [%]\n",
    "    'sand': load_raster(soil_dir / \"tadla_sand_10m.tif\", 1),     # [%]\n",
    "    'ocd': load_raster(soil_dir / \"tadla_ocd_10m.tif\", 1),       # [g/kg]\n",
    "    'wv0010': load_raster(soil_dir / \"tadla_wv0010_10m.tif\", 1)  # [m³/m³]\n",
    "}"
   ]
  },
  {
   "cell_type": "markdown",
   "metadata": {},
   "source": [
    "### Step 3: Preprocess Data for CNN"
   ]
  },
  {
   "cell_type": "code",
   "execution_count": null,
   "metadata": {},
   "outputs": [],
   "source": []
  },
  {
   "cell_type": "markdown",
   "metadata": {},
   "source": []
  }
 ],
 "metadata": {
  "kernelspec": {
   "display_name": "Python 3",
   "language": "python",
   "name": "python3"
  },
  "language_info": {
   "codemirror_mode": {
    "name": "ipython",
    "version": 3
   },
   "file_extension": ".py",
   "mimetype": "text/x-python",
   "name": "python",
   "nbconvert_exporter": "python",
   "pygments_lexer": "ipython3",
   "version": "3.12.0"
  }
 },
 "nbformat": 4,
 "nbformat_minor": 2
}
