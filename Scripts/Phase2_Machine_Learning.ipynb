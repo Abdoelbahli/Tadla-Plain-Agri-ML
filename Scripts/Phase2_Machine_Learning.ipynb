{
 "cells": [
  {
   "cell_type": "markdown",
   "metadata": {},
   "source": [
    "# Phase 2: Soil Moisture Prediction "
   ]
  },
  {
   "cell_type": "markdown",
   "metadata": {},
   "source": [
    "### Step 1: Prepare Training Data\n",
    "\n",
    "    We’ll include all features to maximize model accuracy:\n",
    "        \n",
    "##### 1. Static Features (do not change over time):\n",
    "            \n",
    "    Soil properties: clay, silt, sand, ocd (organic carbon density), wv0010 (water content at saturation).\n",
    "    Topography: DEM, slope, aspect.\n",
    "    Dynamic Features (vary monthly):\n",
    "\n",
    "##### 2. Weather: CHIRPS (rainfall), ERA5 (evaporation).\n",
    "    \n",
    "    Vegetation: NDVI."
   ]
  },
  {
   "cell_type": "code",
   "execution_count": 2,
   "metadata": {},
   "outputs": [],
   "source": [
    "import os\n",
    "import numpy as np\n",
    "import pandas as pd\n",
    "import matplotlib.pyplot as plt\n",
    "import rasterio\n",
    "import tensorflow as tf\n",
    "from tensorflow.keras import layers, models\n",
    "from sklearn.model_selection import train_test_split\n",
    "from sklearn.metrics import mean_squared_error, mean_absolute_error\n",
    "from pathlib import Path\n",
    "import yaml\n",
    "import xarray as xr\n",
    "import rioxarray as rxr\n",
    "import geopandas as gpd\n",
    "import earthpy.plot as ep\n",
    "from sklearn.preprocessing import MinMaxScaler\n",
    "import json\n",
    "\n",
    "# Set seed for reproducibility\n",
    "tf.random.set_seed(42)\n",
    "np.random.seed(42)"
   ]
  },
  {
   "cell_type": "code",
   "execution_count": 4,
   "metadata": {},
   "outputs": [],
   "source": [
    "# -----------------------------------------------------------------------------\n",
    "# Load config.yml\n",
    "# -----------------------------------------------------------------------------\n",
    "\n",
    "# Get project root (adjust based on your folder depth)\n",
    "current_dir = Path(os.getcwd())\n",
    "project_root = current_dir.parent\n",
    "with open(project_root / \"config.yml\", \"r\") as f:\n",
    "    config = yaml.safe_load(f)\n",
    "\n",
    "# -----------------------------------------------------------------------------\n",
    "# Construct paths\n",
    "# -----------------------------------------------------------------------------\n",
    "processed_dir = project_root / Path(config['paths']['processed_data'])\n",
    "soil_dir = processed_dir / \"GIS/Soil\" # Soil data directory: clay, sand, silt, ocd, wv0110\n",
    "dem_path = processed_dir / \"GIS/Topography/tadla_dem_10m.tif\" \n",
    "slope_path = processed_dir / \"GIS/Topography/tadla_slope.tif\"\n",
    "aspect_path = processed_dir / \"GIS/Topography/tadla_aspect.tif\"\n",
    "rainfall_dir = processed_dir / \"Weather/CHIRPS_Annual\" # Rainfall data directory: chirps from 2017 to 2023, 1 file per year with 12 bands\n",
    "evapotranspiration_dir = processed_dir / \"Weather/ERA5_Annual\" # Evapotranspiration data directory: era5 from 2017 to 2023, 1 file per year with 12 bands\n",
    "boundaries_dir = processed_dir / \"GIS/Study_Area_Boundary\" \n",
    "ndvi_dir = processed_dir / \"GIS/Land_Use\" # NDVI data directory: ndvi from 2017 to 2023, 1 file per year with 12 bands"
   ]
  },
  {
   "cell_type": "code",
   "execution_count": 5,
   "metadata": {},
   "outputs": [],
   "source": [
    "# Load static features (soil + topography)\n",
    "static_data = {\n",
    "    \"clay\": rxr.open_rasterio(Path(soil_dir / \"tadla_clay_10m.tif\")).squeeze(),\n",
    "    \"silt\": rxr.open_rasterio(Path(soil_dir / \"tadla_silt_10m.tif\")).squeeze(),\n",
    "    \"sand\": rxr.open_rasterio(Path(soil_dir / \"tadla_sand_10m.tif\")).squeeze(),\n",
    "    \"ocd\": rxr.open_rasterio(Path(soil_dir / \"tadla_ocd_10m.tif\")).squeeze(),\n",
    "    \"wv0010\": rxr.open_rasterio(Path(soil_dir / \"tadla_wv0010_10m.tif\")).squeeze(),\n",
    "    \"dem\": rxr.open_rasterio(Path(dem_path)).squeeze(),\n",
    "    \"slope\": rxr.open_rasterio(Path(slope_path)).squeeze(),\n",
    "    \"aspect\": rxr.open_rasterio(Path(aspect_path)).squeeze(),\n",
    "}"
   ]
  },
  {
   "cell_type": "code",
   "execution_count": null,
   "metadata": {},
   "outputs": [],
   "source": []
  }
 ],
 "metadata": {
  "kernelspec": {
   "display_name": "Python 3",
   "language": "python",
   "name": "python3"
  },
  "language_info": {
   "codemirror_mode": {
    "name": "ipython",
    "version": 3
   },
   "file_extension": ".py",
   "mimetype": "text/x-python",
   "name": "python",
   "nbconvert_exporter": "python",
   "pygments_lexer": "ipython3",
   "version": "3.12.0"
  }
 },
 "nbformat": 4,
 "nbformat_minor": 2
}
