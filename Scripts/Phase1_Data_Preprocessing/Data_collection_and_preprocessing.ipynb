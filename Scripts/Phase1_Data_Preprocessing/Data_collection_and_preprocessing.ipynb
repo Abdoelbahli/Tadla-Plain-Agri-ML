{
 "cells": [
  {
   "cell_type": "markdown",
   "metadata": {},
   "source": [
    "# Step 1: Defining the Study Area"
   ]
  },
  {
   "cell_type": "code",
   "execution_count": null,
   "metadata": {},
   "outputs": [],
   "source": [
    "import os\n",
    "import yaml\n",
    "from pathlib import Path\n",
    "import geopandas as gpd\n",
    "import rasterio\n",
    "\n",
    "# -----------------------------------------------------------------------------\n",
    "# Load config.yml\n",
    "# -----------------------------------------------------------------------------\n",
    "\n",
    "# Get project root (adjust based on your folder depth)\n",
    "current_dir = Path(os.getcwd())\n",
    "project_root = current_dir.parent.parent  # Navigate up from \"Scripts/Phase1_Data_Preprocessing\"\n",
    "\n",
    "with open(project_root / \"config.yml\", \"r\") as f:\n",
    "    config = yaml.safe_load(f)\n",
    "\n",
    "# -----------------------------------------------------------------------------\n",
    "# Construct paths\n",
    "# -----------------------------------------------------------------------------\n",
    "\n",
    "# Raw data paths\n",
    "raw_data_dir = project_root / config[\"paths\"][\"raw_data\"]\n",
    "soil_raw_dir = raw_data_dir / \"GIS/Soil\"  # Matches your hardcoded path structure\n",
    "morocco_path = raw_data_dir / config[\"paths\"][\"morocco_boundary\"]\n",
    "tadla_plain_path = raw_data_dir / config[\"paths\"][\"tadla_plain_raw\"]\n",
    "tadla_plain_boundary_path = raw_data_dir / config[\"paths\"][\"tadla_plain_boundary_raw\"]\n",
    "soil_raw_path = raw_data_dir / config[\"paths\"][\"soil_raw\"]\n",
    "\n",
    "# Processed data paths\n",
    "processed_data_dir = project_root / config[\"paths\"][\"processed_data\"]\n",
    "output_dir = processed_data_dir / \"GIS/Study_Area_Boundary\"\n",
    "output_path = output_dir / \"Tadla_plain_common.shp\"\n",
    "tadla_common_path = processed_data_dir / config[\"paths\"][\"tadla_boundary_processed\"]\n",
    "soil_processed_path = processed_data_dir / config[\"paths\"][\"soil_processed\"]"
   ]
  },
  {
   "cell_type": "code",
   "execution_count": null,
   "metadata": {},
   "outputs": [],
   "source": [
    "# Load Morocco boundary\n",
    "morocco = gpd.read_file(morocco_path)\n",
    "\n",
    "# Check the first few rows to see province names\n",
    "morocco.head()"
   ]
  },
  {
   "cell_type": "code",
   "execution_count": null,
   "metadata": {},
   "outputs": [],
   "source": [
    "morocco.plot()"
   ]
  },
  {
   "cell_type": "code",
   "execution_count": null,
   "metadata": {},
   "outputs": [],
   "source": [
    "# Load Tadla Plain shapefile\n",
    "tadla_plain_polygon = gpd.read_file(tadla_plain_path)\n",
    "\n",
    "# Check the data\n",
    "print(tadla_plain_polygon)  # Show first few rows\n"
   ]
  },
  {
   "cell_type": "code",
   "execution_count": null,
   "metadata": {},
   "outputs": [],
   "source": [
    "tadla_plain_polygon.plot()  # Plot the geometry"
   ]
  },
  {
   "cell_type": "code",
   "execution_count": null,
   "metadata": {},
   "outputs": [],
   "source": [
    "print(f\"Study area size: {tadla_plain_polygon.geometry.area} m²\") "
   ]
  },
  {
   "cell_type": "code",
   "execution_count": null,
   "metadata": {},
   "outputs": [],
   "source": [
    "# Reproject to Merchich (EPSG:26191)\n",
    "tadla_merchiche = tadla_plain_polygon.to_crs(epsg=26191)\n",
    "\n",
    "# Calculate area\n",
    "area_m2 = tadla_merchiche.geometry.area\n",
    "print(f\"Study area size: {area_m2[0]:.2f} m²\")  \n",
    "# Example output: \"Study area size: 1300000000.00 m²\"\n",
    "\n",
    "area_ha = area_m2 / 10000\n",
    "print(f\"Study area size: {area_ha[0]:.2f} hectares\")  \n",
    "# Example output: \"Study area size: 130000.00 hectares\"\n"
   ]
  },
  {
   "cell_type": "code",
   "execution_count": null,
   "metadata": {},
   "outputs": [],
   "source": [
    "tadla_merchiche.plot()"
   ]
  },
  {
   "cell_type": "code",
   "execution_count": null,
   "metadata": {},
   "outputs": [],
   "source": [
    "# Load the cleaned boundary shapefile\n",
    "Tadla_plain_boundary = gpd.read_file(tadla_plain_boundary_path)\n",
    "# Check the current CRS\n",
    "print(Tadla_plain_boundary.crs)"
   ]
  },
  {
   "cell_type": "code",
   "execution_count": null,
   "metadata": {},
   "outputs": [],
   "source": [
    "# Convert to Merchich CRS if needed\n",
    "if Tadla_plain_boundary.crs != \"EPSG:26191\":\n",
    "    Tadla_plain_boundary = Tadla_plain_boundary.to_crs(epsg=26191)\n"
   ]
  },
  {
   "cell_type": "code",
   "execution_count": null,
   "metadata": {},
   "outputs": [],
   "source": [
    "Tadla_plain_boundary.plot()"
   ]
  },
  {
   "cell_type": "code",
   "execution_count": null,
   "metadata": {},
   "outputs": [],
   "source": [
    "# Assume these are already loaded and in the same CRS (EPSG:26191)\n",
    "# tadla_merchiche: full administrative boundary (Merchich)\n",
    "# tadla_plain_polygone: digitized Tadla plain (which may be slightly off)\n",
    "\n",
    "# Compute the common (intersecting) area between the two layers\n",
    "tadla_plain = gpd.overlay(Tadla_plain_boundary, tadla_merchiche, how='intersection')\n",
    "\n",
    "# Save the resulting common area shapefile for further analysis\n",
    "tadla_plain.to_file(output_path)"
   ]
  },
  {
   "cell_type": "code",
   "execution_count": null,
   "metadata": {},
   "outputs": [],
   "source": [
    "import matplotlib.pyplot as plt\n",
    "from matplotlib.patches import Patch\n",
    "\n",
    "# Plot layers with explicit labels\n",
    "fig, ax = plt.subplots(figsize=(8, 8))\n",
    "tadla_merchiche.plot(ax=ax, facecolor=\"none\", edgecolor=\"red\", linewidth=2)\n",
    "Tadla_plain_boundary.plot(ax=ax, facecolor=\"blue\", alpha=0.5, edgecolor=\"blue\")\n",
    "tadla_plain.plot(ax=ax, facecolor=\"green\", alpha=0.5, edgecolor=\"black\")\n",
    "\n",
    "# Create custom legend\n",
    "legend_labels = {\n",
    "    \"Full Admin Boundary\": \"red\",\n",
    "    \"Digitized Tadla Plain\": \"blue\",\n",
    "    \"Common Area\": \"green\"\n",
    "}\n",
    "patches = [Patch(color=color, label=label) for label, color in legend_labels.items()]\n",
    "plt.legend(handles=patches)\n",
    "\n",
    "plt.title(\"Common Area between Tadla Plain and Full Admin Boundary\")\n",
    "plt.show()"
   ]
  },
  {
   "cell_type": "code",
   "execution_count": null,
   "metadata": {},
   "outputs": [],
   "source": [
    "tadla_plain = tadla_plain.to_crs(epsg=26191)  # Ensure projection\n",
    "tadla_merchiche = tadla_merchiche.to_crs(epsg=26191)\n",
    "\n",
    "area_plain_m2 = tadla_plain.geometry.area.sum()\n",
    "area_full_m2 = tadla_merchiche.geometry.area.sum()\n",
    "\n",
    "print(f\"Tadla Plain area: {area_plain_m2:.2f} m²\")\n",
    "print(f\"Full Admin Boundary area: {area_full_m2:.2f} m²\")\n"
   ]
  },
  {
   "cell_type": "code",
   "execution_count": null,
   "metadata": {},
   "outputs": [],
   "source": [
    "import rasterio\n",
    "from rasterio.warp import calculate_default_transform, reproject\n",
    "\n",
    "def reproject_raster(input_path, output_path, target_crs):\n",
    "    with rasterio.open(input_path) as src:\n",
    "        transform, width, height = calculate_default_transform(\n",
    "            src.crs, target_crs, src.width, src.height, *src.bounds\n",
    "        )\n",
    "        metadata = src.meta.copy()\n",
    "        metadata.update({\n",
    "            \"crs\": target_crs,\n",
    "            \"transform\": transform,\n",
    "            \"width\": width,\n",
    "            \"height\": height\n",
    "        })\n",
    "\n",
    "        with rasterio.open(output_path, \"w\", **metadata) as dest:\n",
    "            reproject(\n",
    "                source=rasterio.band(src, 1),\n",
    "                destination=rasterio.band(dest, 1),\n",
    "                src_transform=src.transform,\n",
    "                src_crs=src.crs,\n",
    "                dst_transform=transform,\n",
    "                dst_crs=target_crs\n",
    "            )"
   ]
  },
  {
   "cell_type": "markdown",
   "metadata": {},
   "source": [
    "# Step 2: Downloading Soil Data (SoilGrids)"
   ]
  },
  {
   "cell_type": "code",
   "execution_count": null,
   "metadata": {},
   "outputs": [],
   "source": [
    "import geopandas as gpd\n",
    "\n",
    "# Load Tadla boundary (EPSG:26191)\n",
    "tadla = gpd.read_file(tadla_common_path)\n",
    "tadla = tadla.to_crs(\"EPSG:26191\")\n",
    "\n",
    "# Get bounding box in Merchich coordinates\n",
    "minx, miny, maxx, maxy = tadla.total_bounds\n",
    "print(f\"X: {minx}, {maxx}\")  # Easting bounds\n",
    "print(f\"Y: {miny}, {maxy}\")  # Northing bounds"
   ]
  },
  {
   "cell_type": "markdown",
   "metadata": {},
   "source": [
    "### 1. Defining Parameters"
   ]
  },
  {
   "cell_type": "code",
   "execution_count": null,
   "metadata": {},
   "outputs": [],
   "source": [
    "# Bounding box of Tadla Plain in EPSG:26191 (from your URL)\n",
    "minx, maxx = 339200, 459750  # X (Easting)\n",
    "miny, maxy = 164400, 241200  # Y (Northing)\n",
    "\n",
    "# Soil layers and their COVERAGEIDs (adjust if needed)\n",
    "layers = {\n",
    "    \"clay\": \"clay_0-5cm_mean\",\n",
    "    \"silt\": \"silt_0-5cm_mean\",\n",
    "    \"sand\": \"sand_0-5cm_mean\",\n",
    "    \"ocd\": \"ocd_0-5cm_mean\",    # Organic carbon density\n",
    "    \"wcs\": \"wcs_0-5cm_mean\"     # Water content at saturation\n",
    "}"
   ]
  },
  {
   "cell_type": "markdown",
   "metadata": {},
   "source": [
    "### 2. Python Script to Download All Layers"
   ]
  },
  {
   "cell_type": "code",
   "execution_count": null,
   "metadata": {},
   "outputs": [],
   "source": [
    "import requests\n",
    "import os\n",
    "\n",
    "os.makedirs(soil_raw_dir, exist_ok=True)\n",
    "\n",
    "for param, coverage_id in layers.items():\n",
    "    url = (\n",
    "        f\"https://maps.isric.org/mapserv?map=/map/{param}.map&\"\n",
    "        f\"SERVICE=WCS&\"\n",
    "        f\"VERSION=2.0.1&\"\n",
    "        f\"REQUEST=GetCoverage&\"\n",
    "        f\"COVERAGEID={coverage_id}&\"\n",
    "        f\"FORMAT=GEOTIFF_INT16&\"  # Or GEOTIFF_FLOAT32 for raw values\n",
    "        f\"SUBSET=X({minx},{maxx})&\"\n",
    "        f\"SUBSET=Y({miny},{maxy})&\"\n",
    "        f\"SUBSETTINGCRS=http://www.opengis.net/def/crs/EPSG/0/26191&\"\n",
    "        f\"OUTPUTCRS=http://www.opengis.net/def/crs/EPSG/0/26191\"\n",
    "    )\n",
    "    \n",
    "    # Download and save\n",
    "    response = requests.get(url)\n",
    "    if response.status_code == 200:\n",
    "        output_path = os.path.join(soil_raw_dir, f\"tadla_{param}.tif\")\n",
    "        with open(output_path, \"wb\") as f:\n",
    "            f.write(response.content)\n",
    "        print(f\"Downloaded {param} to {output_path}\")\n",
    "    else:\n",
    "        print(f\"Failed to download {param}: HTTP {response.status_code}\")"
   ]
  },
  {
   "cell_type": "markdown",
   "metadata": {},
   "source": [
    "### 3. Post-Processing"
   ]
  },
  {
   "cell_type": "markdown",
   "metadata": {},
   "source": [
    "1. Unit Conversion:\n",
    "\n",
    "    SoilGrids stores integer values as actual value × 10. \n",
    "    \n",
    "    For example:\n",
    "        A pixel value of 150 = 15% clay."
   ]
  },
  {
   "cell_type": "code",
   "execution_count": null,
   "metadata": {},
   "outputs": [],
   "source": [
    "import rasterio\n",
    "import numpy as np\n",
    "\n",
    "# Process soil data\n",
    "\n",
    "    # = src.profile\n",
    "   \n",
    "\n",
    "with rasterio.open(soil_raw_path) as src:\n",
    "    clay = src.read(1)\n",
    "    clay = clay.astype(np.float32) / 10  # Convert to %\n",
    "    profile = src.profile.copy()\n",
    "    profile.update(dtype=rasterio.float32)\n",
    "\n",
    "    with rasterio.open(soil_processed_path, \"w\", **profile) as dst:\n",
    "        dst.write(src.read())\n"
   ]
  },
  {
   "cell_type": "markdown",
   "metadata": {},
   "source": [
    "2. Validate CRS Alignment\n",
    "\n",
    "    Confirm all downloaded rasters are in EPSG:26191"
   ]
  },
  {
   "cell_type": "code",
   "execution_count": null,
   "metadata": {},
   "outputs": [],
   "source": [
    "import rasterio\n",
    "\n",
    "with rasterio.open(soil_raw_path) as src:\n",
    "    print(src.crs)  # Should print \"EPSG:26191\""
   ]
  }
 ],
 "metadata": {
  "kernelspec": {
   "display_name": "Python 3",
   "language": "python",
   "name": "python3"
  },
  "language_info": {
   "codemirror_mode": {
    "name": "ipython",
    "version": 3
   },
   "file_extension": ".py",
   "mimetype": "text/x-python",
   "name": "python",
   "nbconvert_exporter": "python",
   "pygments_lexer": "ipython3",
   "version": "3.12.0"
  }
 },
 "nbformat": 4,
 "nbformat_minor": 2
}
