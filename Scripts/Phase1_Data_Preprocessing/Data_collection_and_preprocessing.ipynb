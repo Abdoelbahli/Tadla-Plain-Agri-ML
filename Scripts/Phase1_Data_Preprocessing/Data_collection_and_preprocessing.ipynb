{
 "cells": [
  {
   "cell_type": "markdown",
   "metadata": {},
   "source": [
    "# Step 1: Defining the Study Area"
   ]
  },
  {
   "cell_type": "code",
   "execution_count": 1,
   "metadata": {},
   "outputs": [],
   "source": [
    "import os\n",
    "import yaml\n",
    "from pathlib import Path\n",
    "import geopandas as gpd\n",
    "import rasterio\n",
    "\n",
    "# -----------------------------------------------------------------------------\n",
    "# Load config.yml\n",
    "# -----------------------------------------------------------------------------\n",
    "\n",
    "# Get project root (adjust based on your folder depth)\n",
    "current_dir = Path(os.getcwd())\n",
    "project_root = current_dir.parent.parent  # Navigate up from \"Scripts/Phase1_Data_Preprocessing\"\n",
    "\n",
    "with open(project_root / \"config.yml\", \"r\") as f:\n",
    "    config = yaml.safe_load(f)\n",
    "\n",
    "# Print the config dictionary to debug\n",
    "\n",
    "\n",
    "# -----------------------------------------------------------------------------\n",
    "# Construct paths\n",
    "# -----------------------------------------------------------------------------\n",
    "\n",
    "# Raw data paths\n",
    "raw_data_dir = project_root / config[\"paths\"][\"raw_data\"]\n",
    "soil_raw_dir = raw_data_dir / \"GIS/Soil\"  # Matches your hardcoded path structure\n",
    "morocco_path = raw_data_dir / config[\"paths\"][\"morocco_path\"]\n",
    "tadla_plain_path = raw_data_dir / config[\"paths\"][\"tadla_plain_raw\"]\n",
    "tadla_plain_boundary_path = raw_data_dir / config[\"paths\"][\"tadla_plain_boundary_raw\"]\n",
    "soil_raw_path = raw_data_dir / config[\"paths\"][\"soil_raw\"]\n",
    "dem_raw_path = raw_data_dir / config[\"paths\"][\"dem_raw\"]\n",
    "chirps_raw_path = raw_data_dir / config[\"paths\"][\"chirps_raw\"]\n",
    "era5_raw_path = raw_data_dir / config[\"paths\"][\"era5_raw\"]\n",
    "\n",
    "# Processed data paths\n",
    "processed_data_dir = project_root / config[\"paths\"][\"processed_data\"]\n",
    "output_dir = processed_data_dir / \"GIS/Study_Area_Boundary\"\n",
    "output_path = output_dir / \"Tadla_plain_common.shp\"\n",
    "tadla_common_path = processed_data_dir / config[\"paths\"][\"tadla_boundary_processed\"]\n",
    "soil_processed_path = processed_data_dir / config[\"paths\"][\"soil_processed\"]\n",
    "dem_processed_path = processed_data_dir / config[\"paths\"][\"dem_processed\"]\n",
    "slope_path = processed_data_dir / \"GIS/Topography/tadla_slope.tif\"\n",
    "aspect_path = processed_data_dir / \"GIS/Topography/tadla_aspect.tif\"\n",
    "chirps_processed_path = processed_data_dir / config[\"paths\"][\"chirps_processed\"]\n",
    "era5_processed_path = processed_data_dir / config[\"paths\"][\"era5_processed\"]\n",
    "\n",
    "\n",
    "# Ensure output directory exists\n",
    "os.makedirs(dem_processed_path.parent, exist_ok=True)\n",
    "# Ensure output directory exists\n",
    "os.makedirs(output_dir, exist_ok=True)\n",
    "os.makedirs(era5_processed_path.parent, exist_ok=True)"
   ]
  },
  {
   "cell_type": "code",
   "execution_count": 2,
   "metadata": {},
   "outputs": [
    {
     "data": {
      "text/html": [
       "<div>\n",
       "<style scoped>\n",
       "    .dataframe tbody tr th:only-of-type {\n",
       "        vertical-align: middle;\n",
       "    }\n",
       "\n",
       "    .dataframe tbody tr th {\n",
       "        vertical-align: top;\n",
       "    }\n",
       "\n",
       "    .dataframe thead th {\n",
       "        text-align: right;\n",
       "    }\n",
       "</style>\n",
       "<table border=\"1\" class=\"dataframe\">\n",
       "  <thead>\n",
       "    <tr style=\"text-align: right;\">\n",
       "      <th></th>\n",
       "      <th>OBJECTID</th>\n",
       "      <th>LAYER</th>\n",
       "      <th>GM_TYPE</th>\n",
       "      <th>NumCom</th>\n",
       "      <th>Code</th>\n",
       "      <th>CodeCommun</th>\n",
       "      <th>CommuneMun</th>\n",
       "      <th>CommuneGro</th>\n",
       "      <th>CodeCercle</th>\n",
       "      <th>Cercle</th>\n",
       "      <th>...</th>\n",
       "      <th>SupMapHa</th>\n",
       "      <th>SupMapKm2</th>\n",
       "      <th>Densite204</th>\n",
       "      <th>TxAccAnn94</th>\n",
       "      <th>SAU</th>\n",
       "      <th>Shape_Leng</th>\n",
       "      <th>Shape_Area</th>\n",
       "      <th>Pop2004</th>\n",
       "      <th>Pop1994</th>\n",
       "      <th>geometry</th>\n",
       "    </tr>\n",
       "  </thead>\n",
       "  <tbody>\n",
       "    <tr>\n",
       "      <th>0</th>\n",
       "      <td>1</td>\n",
       "      <td>CUrb</td>\n",
       "      <td>Unknown Area Type</td>\n",
       "      <td>101</td>\n",
       "      <td>1630103</td>\n",
       "      <td>3</td>\n",
       "      <td>AIT BAHA  (M)</td>\n",
       "      <td>Ait Baha</td>\n",
       "      <td>1</td>\n",
       "      <td>None</td>\n",
       "      <td>...</td>\n",
       "      <td>289.0</td>\n",
       "      <td>2.89</td>\n",
       "      <td>1649.48</td>\n",
       "      <td>2.74</td>\n",
       "      <td>196</td>\n",
       "      <td>6649.301032</td>\n",
       "      <td>2.895962e+06</td>\n",
       "      <td>4767</td>\n",
       "      <td>3638</td>\n",
       "      <td>POLYGON ((500064.146 590485.31, 500724.22 5901...</td>\n",
       "    </tr>\n",
       "  </tbody>\n",
       "</table>\n",
       "<p>1 rows × 33 columns</p>\n",
       "</div>"
      ],
      "text/plain": [
       "   OBJECTID LAYER            GM_TYPE  NumCom     Code  CodeCommun  \\\n",
       "0         1  CUrb  Unknown Area Type     101  1630103           3   \n",
       "\n",
       "      CommuneMun CommuneGro  CodeCercle Cercle  ... SupMapHa SupMapKm2  \\\n",
       "0  AIT BAHA  (M)   Ait Baha           1   None  ...    289.0      2.89   \n",
       "\n",
       "   Densite204 TxAccAnn94  SAU   Shape_Leng    Shape_Area  Pop2004  Pop1994  \\\n",
       "0     1649.48       2.74  196  6649.301032  2.895962e+06     4767     3638   \n",
       "\n",
       "                                            geometry  \n",
       "0  POLYGON ((500064.146 590485.31, 500724.22 5901...  \n",
       "\n",
       "[1 rows x 33 columns]"
      ]
     },
     "execution_count": 2,
     "metadata": {},
     "output_type": "execute_result"
    }
   ],
   "source": [
    "# Load Morocco boundary\n",
    "morocco = gpd.read_file(morocco_path)\n",
    "\n",
    "# Check the first few rows to see province names\n",
    "morocco.head()"
   ]
  },
  {
   "cell_type": "code",
   "execution_count": 3,
   "metadata": {},
   "outputs": [
    {
     "name": "stdout",
     "output_type": "stream",
     "text": [
      "PROJCS[\"Africa_Lambert_Conformal_Conic\",GEOGCS[\"GCS_Merchich_Degree\",DATUM[\"Merchich\",SPHEROID[\"Clarke 1880 (IGN)\",6378249.2,293.46602,AUTHORITY[\"EPSG\",\"7011\"]],AUTHORITY[\"EPSG\",\"6261\"]],PRIMEM[\"Greenwich\",0],UNIT[\"Degree\",0.0174532925199433]],PROJECTION[\"Lambert_Conformal_Conic_2SP\"],PARAMETER[\"latitude_of_origin\",33.3],PARAMETER[\"central_meridian\",-5.4],PARAMETER[\"standard_parallel_1\",31.72786641202],PARAMETER[\"standard_parallel_2\",34.8717272112],PARAMETER[\"false_easting\",500000],PARAMETER[\"false_northing\",300000],UNIT[\"metre\",1,AUTHORITY[\"EPSG\",\"9001\"]],AXIS[\"Easting\",EAST],AXIS[\"Northing\",NORTH]]\n"
     ]
    }
   ],
   "source": [
    "print(morocco.crs)"
   ]
  },
  {
   "cell_type": "code",
   "execution_count": 4,
   "metadata": {},
   "outputs": [],
   "source": [
    "morocco_merchiche = morocco.to_crs(epsg=26191)"
   ]
  },
  {
   "cell_type": "code",
   "execution_count": 5,
   "metadata": {},
   "outputs": [
    {
     "data": {
      "text/plain": [
       "<Axes: >"
      ]
     },
     "execution_count": 5,
     "metadata": {},
     "output_type": "execute_result"
    },
    {
     "data": {
      "image/png": "[encoded data removed]",
      "text/plain": [
       "<Figure size 640x480 with 1 Axes>"
      ]
     },
     "metadata": {},
     "output_type": "display_data"
    }
   ],
   "source": [
    "morocco_merchiche.plot()"
   ]
  },
  {
   "cell_type": "code",
   "execution_count": 6,
   "metadata": {},
   "outputs": [
    {
     "name": "stdout",
     "output_type": "stream",
     "text": [
      "   CC_2 GID_0     GID_1       GID_2    HASC_2        NAME_1  NAME_2    TYPE_2  \\\n",
      "0    81   MAR  MAR.13_1  MAR.13.1_1  MA.TD.AZ  Tadla-Azilal  Azilal  Province   \n",
      "\n",
      "   COUNTRY ENGTYPE_2 NL_NAME_1 NL_NAME_2 VARNAME_2  \\\n",
      "0  Morocco  Province        NA        NA        NA   \n",
      "\n",
      "                                            geometry  \n",
      "0  POLYGON ((-7.1668 31.6115, -7.1781 31.6119, -7...  \n"
     ]
    }
   ],
   "source": [
    "# Load Tadla Plain shapefile\n",
    "tadla_plain_polygon = gpd.read_file(tadla_plain_path)\n",
    "\n",
    "# Check the data\n",
    "print(tadla_plain_polygon)  # Show first few rows\n"
   ]
  },
  {
   "cell_type": "code",
   "execution_count": 7,
   "metadata": {},
   "outputs": [
    {
     "data": {
      "text/plain": [
       "<Axes: >"
      ]
     },
     "execution_count": 7,
     "metadata": {},
     "output_type": "execute_result"
    },
    {
     "data": {
      "image/png": "[encoded data removed]",
      "text/plain": [
       "<Figure size 640x480 with 1 Axes>"
      ]
     },
     "metadata": {},
     "output_type": "display_data"
    }
   ],
   "source": [
    "tadla_plain_polygon.plot()  # Plot the geometry"
   ]
  },
  {
   "cell_type": "code",
   "execution_count": 8,
   "metadata": {},
   "outputs": [
    {
     "name": "stdout",
     "output_type": "stream",
     "text": [
      "Study area size: 0    1.488719\n",
      "dtype: float64 m²\n"
     ]
    },
    {
     "name": "stderr",
     "output_type": "stream",
     "text": [
      "C:\\Users\\abdel\\AppData\\Local\\Temp\\ipykernel_20540\\576071636.py:1: UserWarning: Geometry is in a geographic CRS. Results from 'area' are likely incorrect. Use 'GeoSeries.to_crs()' to re-project geometries to a projected CRS before this operation.\n",
      "\n",
      "  print(f\"Study area size: {tadla_plain_polygon.geometry.area} m²\")\n"
     ]
    }
   ],
   "source": [
    "print(f\"Study area size: {tadla_plain_polygon.geometry.area} m²\") "
   ]
  },
  {
   "cell_type": "code",
   "execution_count": 9,
   "metadata": {},
   "outputs": [
    {
     "name": "stdout",
     "output_type": "stream",
     "text": [
      "Study area size: 15573013765.35 m²\n",
      "Study area size: 1557301.38 hectares\n"
     ]
    }
   ],
   "source": [
    "# Reproject to Merchich (EPSG:26191)\n",
    "tadla_merchiche = tadla_plain_polygon.to_crs(epsg=26191)\n",
    "\n",
    "# Calculate area\n",
    "area_m2 = tadla_merchiche.geometry.area\n",
    "print(f\"Study area size: {area_m2[0]:.2f} m²\")  \n",
    "# Example output: \"Study area size: 1300000000.00 m²\"\n",
    "\n",
    "area_ha = area_m2 / 10000\n",
    "print(f\"Study area size: {area_ha[0]:.2f} hectares\")  \n",
    "# Example output: \"Study area size: 130000.00 hectares\"\n"
   ]
  },
  {
   "cell_type": "code",
   "execution_count": 10,
   "metadata": {},
   "outputs": [
    {
     "data": {
      "text/plain": [
       "<Axes: >"
      ]
     },
     "execution_count": 10,
     "metadata": {},
     "output_type": "execute_result"
    },
    {
     "data": {
      "image/png": "[encoded data removed]",
      "text/plain": [
       "<Figure size 640x480 with 1 Axes>"
      ]
     },
     "metadata": {},
     "output_type": "display_data"
    }
   ],
   "source": [
    "tadla_merchiche.plot()"
   ]
  },
  {
   "cell_type": "code",
   "execution_count": 11,
   "metadata": {},
   "outputs": [
    {
     "name": "stdout",
     "output_type": "stream",
     "text": [
      "EPSG:4326\n"
     ]
    }
   ],
   "source": [
    "# Load the cleaned boundary shapefile\n",
    "Tadla_plain_boundary = gpd.read_file(tadla_plain_boundary_path)\n",
    "# Check the current CRS\n",
    "print(Tadla_plain_boundary.crs)"
   ]
  },
  {
   "cell_type": "code",
   "execution_count": 12,
   "metadata": {},
   "outputs": [],
   "source": [
    "# Convert to Merchich CRS if needed\n",
    "if Tadla_plain_boundary.crs != \"EPSG:26191\":\n",
    "    Tadla_plain_boundary = Tadla_plain_boundary.to_crs(epsg=26191)\n"
   ]
  },
  {
   "cell_type": "code",
   "execution_count": 13,
   "metadata": {},
   "outputs": [
    {
     "data": {
      "text/plain": [
       "<Axes: >"
      ]
     },
     "execution_count": 13,
     "metadata": {},
     "output_type": "execute_result"
    },
    {
     "data": {
      "image/png": "[encoded data removed]",
      "text/plain": [
       "<Figure size 640x480 with 1 Axes>"
      ]
     },
     "metadata": {},
     "output_type": "display_data"
    }
   ],
   "source": [
    "Tadla_plain_boundary.plot()"
   ]
  },
  {
   "cell_type": "code",
   "execution_count": 14,
   "metadata": {},
   "outputs": [],
   "source": [
    "# Assume these are already loaded and in the same CRS (EPSG:26191)\n",
    "# tadla_merchiche: full administrative boundary (Merchich)\n",
    "# tadla_plain_polygone: digitized Tadla plain (which may be slightly off)\n",
    "\n",
    "# Compute the common (intersecting) area between the two layers\n",
    "tadla_plain = gpd.overlay(Tadla_plain_boundary, tadla_merchiche, how='intersection')\n",
    "\n",
    "# Save the resulting common area shapefile for further analysis\n",
    "tadla_plain.to_file(output_path)"
   ]
  },
  {
   "cell_type": "code",
   "execution_count": 15,
   "metadata": {},
   "outputs": [
    {
     "data": {
      "image/png": "[encoded data removed]",
      "text/plain": [
       "<Figure size 800x800 with 1 Axes>"
      ]
     },
     "metadata": {},
     "output_type": "display_data"
    }
   ],
   "source": [
    "import matplotlib.pyplot as plt\n",
    "from matplotlib.patches import Patch\n",
    "\n",
    "# Plot layers with explicit labels\n",
    "fig, ax = plt.subplots(figsize=(8, 8))\n",
    "tadla_merchiche.plot(ax=ax, facecolor=\"none\", edgecolor=\"red\", linewidth=2)\n",
    "Tadla_plain_boundary.plot(ax=ax, facecolor=\"blue\", alpha=0.5, edgecolor=\"blue\")\n",
    "tadla_plain.plot(ax=ax, facecolor=\"green\", alpha=0.5, edgecolor=\"black\")\n",
    "\n",
    "# Create custom legend\n",
    "legend_labels = {\n",
    "    \"Full Admin Boundary\": \"red\",\n",
    "    \"Digitized Tadla Plain\": \"blue\",\n",
    "    \"Common Area\": \"green\"\n",
    "}\n",
    "patches = [Patch(color=color, label=label) for label, color in legend_labels.items()]\n",
    "plt.legend(handles=patches)\n",
    "\n",
    "plt.title(\"Common Area between Tadla Plain and Full Admin Boundary\")\n",
    "plt.show()"
   ]
  },
  {
   "cell_type": "code",
   "execution_count": 16,
   "metadata": {},
   "outputs": [
    {
     "data": {
      "image/png": "[encoded data removed]",
      "text/plain": [
       "<Figure size 800x800 with 1 Axes>"
      ]
     },
     "metadata": {},
     "output_type": "display_data"
    }
   ],
   "source": [
    "# Plot layers with explicit labels\n",
    "fig, ax = plt.subplots(figsize=(8, 8))\n",
    "tadla_merchiche.plot(ax=ax, facecolor=\"none\", edgecolor=\"red\", linewidth=2)\n",
    "Tadla_plain_boundary.plot(ax=ax, facecolor=\"blue\", alpha=0.5, edgecolor=\"blue\")\n",
    "tadla_plain.plot(ax=ax, facecolor=\"green\", alpha=0.5, edgecolor=\"black\")\n",
    "morocco_merchiche.plot(ax=ax, facecolor=\"none\", edgecolor=\"brown\", linewidth=1)\n",
    "\n",
    "# Create custom legend\n",
    "legend_labels = {\n",
    "    \"Full Admin Boundary\": \"red\",\n",
    "    \"Digitized Tadla Plain\": \"blue\",\n",
    "    \"Common Area\": \"green\",\n",
    "    \"Morocco\": \"brown\"\n",
    "}\n",
    "patches = [Patch(color=color, label=label) for label, color in legend_labels.items()]\n",
    "plt.legend(handles=patches)\n",
    "\n",
    "plt.title(\"Common Area between Tadla Plain and Full Admin Boundary of Morocco\")\n",
    "plt.show()"
   ]
  },
  {
   "cell_type": "code",
   "execution_count": 17,
   "metadata": {},
   "outputs": [
    {
     "name": "stdout",
     "output_type": "stream",
     "text": [
      "Tadla Plain area: 4653651925.89 m²\n",
      "Full Admin Boundary area: 15573013765.35 m²\n"
     ]
    }
   ],
   "source": [
    "tadla_plain = tadla_plain.to_crs(epsg=26191)  # Ensure projection\n",
    "tadla_merchiche = tadla_merchiche.to_crs(epsg=26191)\n",
    "\n",
    "area_plain_m2 = tadla_plain.geometry.area.sum()\n",
    "area_full_m2 = tadla_merchiche.geometry.area.sum()\n",
    "\n",
    "print(f\"Tadla Plain area: {area_plain_m2:.2f} m²\")\n",
    "print(f\"Full Admin Boundary area: {area_full_m2:.2f} m²\")\n"
   ]
  },
  {
   "cell_type": "code",
   "execution_count": 18,
   "metadata": {},
   "outputs": [],
   "source": [
    "import rasterio\n",
    "from rasterio.warp import calculate_default_transform, reproject\n",
    "\n",
    "def reproject_raster(input_path, output_path, target_crs):\n",
    "    with rasterio.open(input_path) as src:\n",
    "        transform, width, height = calculate_default_transform(\n",
    "            src.crs, target_crs, src.width, src.height, *src.bounds\n",
    "        )\n",
    "        metadata = src.meta.copy()\n",
    "        metadata.update({\n",
    "            \"crs\": target_crs,\n",
    "            \"transform\": transform,\n",
    "            \"width\": width,\n",
    "            \"height\": height\n",
    "        })\n",
    "\n",
    "        with rasterio.open(output_path, \"w\", **metadata) as dest:\n",
    "            reproject(\n",
    "                source=rasterio.band(src, 1),\n",
    "                destination=rasterio.band(dest, 1),\n",
    "                src_transform=src.transform,\n",
    "                src_crs=src.crs,\n",
    "                dst_transform=transform,\n",
    "                dst_crs=target_crs\n",
    "            )"
   ]
  },
  {
   "cell_type": "markdown",
   "metadata": {},
   "source": [
    "# Step 2: Downloading Soil Data (SoilGrids)"
   ]
  },
  {
   "cell_type": "code",
   "execution_count": 19,
   "metadata": {},
   "outputs": [
    {
     "name": "stdout",
     "output_type": "stream",
     "text": [
      "X: 339269.02644034184, 459699.2928407953\n",
      "Y: 164445.30748250836, 241159.59764125413\n"
     ]
    }
   ],
   "source": [
    "import geopandas as gpd\n",
    "\n",
    "# Load Tadla boundary (EPSG:26191)\n",
    "tadla = gpd.read_file(tadla_common_path)\n",
    "tadla = tadla.to_crs(\"EPSG:26191\")\n",
    "\n",
    "# Get bounding box in Merchich coordinates\n",
    "minx, miny, maxx, maxy = tadla.total_bounds\n",
    "print(f\"X: {minx}, {maxx}\")  # Easting bounds\n",
    "print(f\"Y: {miny}, {maxy}\")  # Northing bounds"
   ]
  },
  {
   "cell_type": "markdown",
   "metadata": {},
   "source": [
    "### 1. Defining Parameters"
   ]
  },
  {
   "cell_type": "code",
   "execution_count": 20,
   "metadata": {},
   "outputs": [],
   "source": [
    "# Bounding box of Tadla Plain in EPSG:26191 (from your URL)\n",
    "minx, maxx = 339200, 459750  # X (Easting)\n",
    "miny, maxy = 164400, 241200  # Y (Northing)\n",
    "\n",
    "# Soil layers and their COVERAGEIDs (adjust if needed)\n",
    "layers = {\n",
    "    \"clay\": \"clay_0-5cm_mean\",\n",
    "    \"silt\": \"silt_0-5cm_mean\",\n",
    "    \"sand\": \"sand_0-5cm_mean\",\n",
    "    \"ocd\": \"ocd_0-5cm_mean\",    # Organic carbon density\n",
    "    \"wcs\": \"wcs_0-5cm_mean\"     # Water content at saturation\n",
    "}"
   ]
  },
  {
   "cell_type": "markdown",
   "metadata": {},
   "source": [
    "### 2. Python Script to Download All Layers"
   ]
  },
  {
   "cell_type": "code",
   "execution_count": 48,
   "metadata": {},
   "outputs": [
    {
     "name": "stdout",
     "output_type": "stream",
     "text": [
      "https://maps.isric.org/mapserv?map=/map/clay.map&SERVICE=WCS&VERSION=2.0.1&REQUEST=GetCoverage&COVERAGEID=clay_0-5cm_mean&FORMAT=GEOTIFF_INT16&SUBSET=X(339200,459750)&SUBSET=Y(164400,241200)&SUBSETTINGCRS=http://www.opengis.net/def/crs/EPSG/0/26191&OUTPUTCRS=http://www.opengis.net/def/crs/EPSG/0/26191\n",
      "Downloaded clay to C:\\Users\\abdel\\OneDrive\\Desktop\\PFE_Project\\Data\\Raw\\GIS\\Soil\\tadla_clay.tif\n",
      "https://maps.isric.org/mapserv?map=/map/silt.map&SERVICE=WCS&VERSION=2.0.1&REQUEST=GetCoverage&COVERAGEID=silt_0-5cm_mean&FORMAT=GEOTIFF_INT16&SUBSET=X(339200,459750)&SUBSET=Y(164400,241200)&SUBSETTINGCRS=http://www.opengis.net/def/crs/EPSG/0/26191&OUTPUTCRS=http://www.opengis.net/def/crs/EPSG/0/26191\n",
      "Downloaded silt to C:\\Users\\abdel\\OneDrive\\Desktop\\PFE_Project\\Data\\Raw\\GIS\\Soil\\tadla_silt.tif\n",
      "https://maps.isric.org/mapserv?map=/map/sand.map&SERVICE=WCS&VERSION=2.0.1&REQUEST=GetCoverage&COVERAGEID=sand_0-5cm_mean&FORMAT=GEOTIFF_INT16&SUBSET=X(339200,459750)&SUBSET=Y(164400,241200)&SUBSETTINGCRS=http://www.opengis.net/def/crs/EPSG/0/26191&OUTPUTCRS=http://www.opengis.net/def/crs/EPSG/0/26191\n",
      "Downloaded sand to C:\\Users\\abdel\\OneDrive\\Desktop\\PFE_Project\\Data\\Raw\\GIS\\Soil\\tadla_sand.tif\n",
      "https://maps.isric.org/mapserv?map=/map/ocd.map&SERVICE=WCS&VERSION=2.0.1&REQUEST=GetCoverage&COVERAGEID=ocd_0-5cm_mean&FORMAT=GEOTIFF_INT16&SUBSET=X(339200,459750)&SUBSET=Y(164400,241200)&SUBSETTINGCRS=http://www.opengis.net/def/crs/EPSG/0/26191&OUTPUTCRS=http://www.opengis.net/def/crs/EPSG/0/26191\n",
      "Downloaded ocd to C:\\Users\\abdel\\OneDrive\\Desktop\\PFE_Project\\Data\\Raw\\GIS\\Soil\\tadla_ocd.tif\n",
      "https://maps.isric.org/mapserv?map=/map/wcs.map&SERVICE=WCS&VERSION=2.0.1&REQUEST=GetCoverage&COVERAGEID=wcs_0-5cm_mean&FORMAT=GEOTIFF_INT16&SUBSET=X(339200,459750)&SUBSET=Y(164400,241200)&SUBSETTINGCRS=http://www.opengis.net/def/crs/EPSG/0/26191&OUTPUTCRS=http://www.opengis.net/def/crs/EPSG/0/26191\n"
     ]
    },
    {
     "ename": "PermissionError",
     "evalue": "[Errno 13] Permission denied: 'C:\\\\Users\\\\abdel\\\\OneDrive\\\\Desktop\\\\PFE_Project\\\\Data\\\\Raw\\\\GIS\\\\Soil\\\\tadla_wcs.tif'",
     "output_type": "error",
     "traceback": [
      "\u001b[1;31m---------------------------------------------------------------------------\u001b[0m",
      "\u001b[1;31mPermissionError\u001b[0m                           Traceback (most recent call last)",
      "Cell \u001b[1;32mIn[48], line 25\u001b[0m\n\u001b[0;32m     23\u001b[0m \u001b[38;5;28;01mif\u001b[39;00m response\u001b[38;5;241m.\u001b[39mstatus_code \u001b[38;5;241m==\u001b[39m \u001b[38;5;241m200\u001b[39m:\n\u001b[0;32m     24\u001b[0m     output_path \u001b[38;5;241m=\u001b[39m os\u001b[38;5;241m.\u001b[39mpath\u001b[38;5;241m.\u001b[39mjoin(soil_raw_dir, \u001b[38;5;124mf\u001b[39m\u001b[38;5;124m\"\u001b[39m\u001b[38;5;124mtadla_\u001b[39m\u001b[38;5;132;01m{\u001b[39;00mparam\u001b[38;5;132;01m}\u001b[39;00m\u001b[38;5;124m.tif\u001b[39m\u001b[38;5;124m\"\u001b[39m)\n\u001b[1;32m---> 25\u001b[0m     \u001b[38;5;28;01mwith\u001b[39;00m \u001b[38;5;28;43mopen\u001b[39;49m\u001b[43m(\u001b[49m\u001b[43moutput_path\u001b[49m\u001b[43m,\u001b[49m\u001b[43m \u001b[49m\u001b[38;5;124;43m\"\u001b[39;49m\u001b[38;5;124;43mwb\u001b[39;49m\u001b[38;5;124;43m\"\u001b[39;49m\u001b[43m)\u001b[49m \u001b[38;5;28;01mas\u001b[39;00m f:\n\u001b[0;32m     26\u001b[0m         f\u001b[38;5;241m.\u001b[39mwrite(response\u001b[38;5;241m.\u001b[39mcontent)\n\u001b[0;32m     27\u001b[0m     \u001b[38;5;28mprint\u001b[39m(\u001b[38;5;124mf\u001b[39m\u001b[38;5;124m\"\u001b[39m\u001b[38;5;124mDownloaded \u001b[39m\u001b[38;5;132;01m{\u001b[39;00mparam\u001b[38;5;132;01m}\u001b[39;00m\u001b[38;5;124m to \u001b[39m\u001b[38;5;132;01m{\u001b[39;00moutput_path\u001b[38;5;132;01m}\u001b[39;00m\u001b[38;5;124m\"\u001b[39m)\n",
      "File \u001b[1;32mc:\\Users\\abdel\\AppData\\Local\\Programs\\Python\\Python312\\Lib\\site-packages\\IPython\\core\\interactiveshell.py:324\u001b[0m, in \u001b[0;36m_modified_open\u001b[1;34m(file, *args, **kwargs)\u001b[0m\n\u001b[0;32m    317\u001b[0m \u001b[38;5;28;01mif\u001b[39;00m file \u001b[38;5;129;01min\u001b[39;00m {\u001b[38;5;241m0\u001b[39m, \u001b[38;5;241m1\u001b[39m, \u001b[38;5;241m2\u001b[39m}:\n\u001b[0;32m    318\u001b[0m     \u001b[38;5;28;01mraise\u001b[39;00m \u001b[38;5;167;01mValueError\u001b[39;00m(\n\u001b[0;32m    319\u001b[0m         \u001b[38;5;124mf\u001b[39m\u001b[38;5;124m\"\u001b[39m\u001b[38;5;124mIPython won\u001b[39m\u001b[38;5;124m'\u001b[39m\u001b[38;5;124mt let you open fd=\u001b[39m\u001b[38;5;132;01m{\u001b[39;00mfile\u001b[38;5;132;01m}\u001b[39;00m\u001b[38;5;124m by default \u001b[39m\u001b[38;5;124m\"\u001b[39m\n\u001b[0;32m    320\u001b[0m         \u001b[38;5;124m\"\u001b[39m\u001b[38;5;124mas it is likely to crash IPython. If you know what you are doing, \u001b[39m\u001b[38;5;124m\"\u001b[39m\n\u001b[0;32m    321\u001b[0m         \u001b[38;5;124m\"\u001b[39m\u001b[38;5;124myou can use builtins\u001b[39m\u001b[38;5;124m'\u001b[39m\u001b[38;5;124m open.\u001b[39m\u001b[38;5;124m\"\u001b[39m\n\u001b[0;32m    322\u001b[0m     )\n\u001b[1;32m--> 324\u001b[0m \u001b[38;5;28;01mreturn\u001b[39;00m \u001b[43mio_open\u001b[49m\u001b[43m(\u001b[49m\u001b[43mfile\u001b[49m\u001b[43m,\u001b[49m\u001b[43m \u001b[49m\u001b[38;5;241;43m*\u001b[39;49m\u001b[43margs\u001b[49m\u001b[43m,\u001b[49m\u001b[43m \u001b[49m\u001b[38;5;241;43m*\u001b[39;49m\u001b[38;5;241;43m*\u001b[39;49m\u001b[43mkwargs\u001b[49m\u001b[43m)\u001b[49m\n",
      "\u001b[1;31mPermissionError\u001b[0m: [Errno 13] Permission denied: 'C:\\\\Users\\\\abdel\\\\OneDrive\\\\Desktop\\\\PFE_Project\\\\Data\\\\Raw\\\\GIS\\\\Soil\\\\tadla_wcs.tif'"
     ]
    }
   ],
   "source": [
    "import requests\n",
    "import os\n",
    "\n",
    "os.makedirs(soil_raw_dir, exist_ok=True)\n",
    "\n",
    "for param, coverage_id in layers.items():\n",
    "    url = (\n",
    "        f\"https://maps.isric.org/mapserv?map=/map/{param}.map&\"\n",
    "        f\"SERVICE=WCS&\"\n",
    "        f\"VERSION=2.0.1&\"\n",
    "        f\"REQUEST=GetCoverage&\"\n",
    "        f\"COVERAGEID={coverage_id}&\"\n",
    "        f\"FORMAT=GEOTIFF_INT16&\"  # Or GEOTIFF_FLOAT32 for raw values\n",
    "        f\"SUBSET=X({minx},{maxx})&\"\n",
    "        f\"SUBSET=Y({miny},{maxy})&\"\n",
    "        f\"SUBSETTINGCRS=http://www.opengis.net/def/crs/EPSG/0/26191&\"\n",
    "        f\"OUTPUTCRS=http://www.opengis.net/def/crs/EPSG/0/26191\"\n",
    "    )\n",
    "    print(url)\n",
    "    \n",
    "    # Download and save\n",
    "    response = requests.get(url)\n",
    "    if response.status_code == 200:\n",
    "        output_path = os.path.join(soil_raw_dir, f\"tadla_{param}.tif\")\n",
    "        with open(output_path, \"wb\") as f:\n",
    "            f.write(response.content)\n",
    "        print(f\"Downloaded {param} to {output_path}\")\n",
    "    else:\n",
    "        print(f\"Failed to download {param}: HTTP {response.status_code}\")\n"
   ]
  },
  {
   "cell_type": "markdown",
   "metadata": {},
   "source": [
    "### 3. Post-Processing"
   ]
  },
  {
   "cell_type": "markdown",
   "metadata": {},
   "source": [
    "1. Unit Conversion:\n",
    "\n",
    "    SoilGrids stores integer values as actual value × 10. \n",
    "    \n",
    "    For example:\n",
    "        A pixel value of 150 = 15% clay."
   ]
  },
  {
   "cell_type": "code",
   "execution_count": 22,
   "metadata": {},
   "outputs": [],
   "source": [
    "import rasterio\n",
    "import numpy as np\n",
    "\n",
    "# Process soil data\n",
    "\n",
    "    # = src.profile\n",
    "   \n",
    "\n",
    "with rasterio.open(soil_raw_path) as src:\n",
    "    clay = src.read(1)\n",
    "    clay = clay.astype(np.float32) / 10  # Convert to %\n",
    "    profile = src.profile.copy()\n",
    "    profile.update(dtype=rasterio.float32)\n",
    "\n",
    "    with rasterio.open(soil_processed_path, \"w\", **profile) as dst:\n",
    "        dst.write(src.read())\n"
   ]
  },
  {
   "cell_type": "markdown",
   "metadata": {},
   "source": [
    "2. Validate CRS Alignment\n",
    "\n",
    "    Confirm all downloaded rasters are in EPSG:26191"
   ]
  },
  {
   "cell_type": "code",
   "execution_count": 23,
   "metadata": {},
   "outputs": [
    {
     "name": "stdout",
     "output_type": "stream",
     "text": [
      "EPSG:26191\n"
     ]
    }
   ],
   "source": [
    "import rasterio\n",
    "\n",
    "with rasterio.open(soil_raw_path) as src:\n",
    "    print(src.crs)  # Should print \"EPSG:26191\""
   ]
  },
  {
   "cell_type": "markdown",
   "metadata": {},
   "source": [
    "# Step 3: DEM Data"
   ]
  },
  {
   "cell_type": "markdown",
   "metadata": {},
   "source": [
    "1. Download DEM Data\n",
    "\n",
    "    We’ll use ALOS PALSAR Global DEM (12.5m resolution) from Google Earth Engine (GEE)."
   ]
  },
  {
   "cell_type": "code",
   "execution_count": 24,
   "metadata": {},
   "outputs": [
    {
     "name": "stdout",
     "output_type": "stream",
     "text": [
      "Current CRS: EPSG:26191\n"
     ]
    }
   ],
   "source": [
    "import geopandas as gpd\n",
    "\n",
    "# Load Tadla boundary (ensure this path is correct)\n",
    "tadla_shp_path = tadla_common_path\n",
    "tadla = gpd.read_file(tadla_shp_path)\n",
    "\n",
    "# Check current CRS\n",
    "print(f\"Current CRS: {tadla.crs}\")  # Should be EPSG:26191 (Merchich)\n",
    "\n",
    "# Reproject to WGS84 (EPSG:4326)\n",
    "tadla_wgs84 = tadla.to_crs(\"EPSG:4326\")\n",
    "\n",
    "# Save reprojected shapefile\n",
    "tadla_wgs84.to_file(tadla_shp_path)  # Overwrite or save to a new file"
   ]
  },
  {
   "cell_type": "code",
   "execution_count": 25,
   "metadata": {},
   "outputs": [
    {
     "name": "stdout",
     "output_type": "stream",
     "text": [
      "Using project ID: pfe-abdellahelbahli\n"
     ]
    }
   ],
   "source": [
    "import os\n",
    "from dotenv import load_dotenv\n",
    "\n",
    "# Load environment variables from the .env file\n",
    "load_dotenv()\n",
    "\n",
    "project_id = os.environ.get('GCP_PROJECT')\n",
    "if not project_id:\n",
    "    raise ValueError(\"The environment variable GCP_PROJECT is not set.\")\n",
    "\n",
    "print(\"Using project ID:\", project_id)\n",
    "\n",
    "import ee\n",
    "ee.Authenticate()\n",
    "ee.Initialize(project=project_id)"
   ]
  },
  {
   "cell_type": "code",
   "execution_count": 26,
   "metadata": {},
   "outputs": [
    {
     "name": "stdout",
     "output_type": "stream",
     "text": [
      "NASADEM: NASA NASADEM Digital Elevation 30m\n"
     ]
    }
   ],
   "source": [
    "# Test authentication\n",
    "print(ee.Image(\"NASA/NASADEM_HGT/001\").get(\"title\").getInfo())"
   ]
  },
  {
   "cell_type": "code",
   "execution_count": 27,
   "metadata": {},
   "outputs": [],
   "source": [
    "bbox = ee.Geometry.Rectangle(\n",
    "    [-7.5, 32.0, -5.5, 32.8],  # minx, miny, maxx, maxy\n",
    "    proj=\"EPSG:4326\"\n",
    ")"
   ]
  },
  {
   "cell_type": "code",
   "execution_count": 28,
   "metadata": {},
   "outputs": [],
   "source": [
    "# Load ALOS DEM ImageCollection and select the 'DSM' band\n",
    "dem_collection = ee.ImageCollection(\"JAXA/ALOS/AW3D30/V3_2\").select('DSM')\n",
    "\n",
    "# Mosaic the collection into a single image (combines all tiles over Tadla)\n",
    "dem = dem_collection.mosaic().clip(bbox)\n"
   ]
  },
  {
   "cell_type": "code",
   "execution_count": 29,
   "metadata": {},
   "outputs": [
    {
     "name": "stdout",
     "output_type": "stream",
     "text": [
      "Task ID: 7W6XBUE54JWHKCJS6MCTXSFB\n",
      "Check progress at: https://code.earthengine.google.com/tasks\n"
     ]
    }
   ],
   "source": [
    "# Export to Google Drive\n",
    "task = ee.batch.Export.image.toDrive(\n",
    "    image=dem,\n",
    "    description='Tadla_DEM',\n",
    "    folder='Tadla_Project',\n",
    "    scale=12.5,\n",
    "    region=bbox,\n",
    "    crs=\"EPSG:26191\",  # Merchich CRS\n",
    "    fileFormat='GeoTIFF',\n",
    "    maxPixels=1e13\n",
    ")\n",
    "task.start()\n",
    "\n",
    "# Monitor task progress\n",
    "print(f\"Task ID: {task.id}\")\n",
    "print(\"Check progress at: https://code.earthengine.google.com/tasks\")"
   ]
  },
  {
   "cell_type": "markdown",
   "metadata": {},
   "source": [
    "2. Preprocess DEM\n",
    "    \n",
    "    Once downloaded, move the DEM to Data/Raw/GIS/Topography/ and preprocess it:"
   ]
  },
  {
   "cell_type": "code",
   "execution_count": 30,
   "metadata": {},
   "outputs": [
    {
     "name": "stdout",
     "output_type": "stream",
     "text": [
      "DEM CRS: EPSG:26191\n",
      "DEM Bounds: BoundingBox(left=301450.0, bottom=156162.5, right=490500.0, top=246837.5)\n",
      "Tadla Bounds: [339269.02534222 164445.30969848 459699.29170375 241159.59984315]\n",
      "Clipped DEM saved to: c:\\Users\\abdel\\OneDrive\\Desktop\\PFE_Project\\Data\\Processed\\GIS\\Topography\\tadla_dem_processed.tif\n"
     ]
    }
   ],
   "source": [
    "from rasterio.mask import mask\n",
    "\n",
    "\n",
    "# Load boundary and ensure it's in the same CRS as the DEM (EPSG:26191)\n",
    "tadla = gpd.read_file(tadla_common_path)\n",
    "if tadla.crs != \"EPSG:26191\":\n",
    "    tadla = tadla.to_crs(\"EPSG:26191\")\n",
    "\n",
    "# Load DEM and check its CRS\n",
    "with rasterio.open(dem_raw_path) as src:\n",
    "    dem_crs = src.crs\n",
    "    print(f\"DEM CRS: {dem_crs}\")  # Should be EPSG:26191\n",
    "\n",
    "    # Fix 2: Reproject boundary if DEM is in a different CRS\n",
    "    if tadla.crs != dem_crs:\n",
    "        tadla = tadla.to_crs(dem_crs)\n",
    "\n",
    "    # Fix 3: Validate overlap\n",
    "    dem_bounds = src.bounds\n",
    "    tadla_bounds = tadla.total_bounds\n",
    "    print(f\"DEM Bounds: {dem_bounds}\")\n",
    "    print(f\"Tadla Bounds: {tadla_bounds}\")\n",
    "\n",
    "    if not (\n",
    "        (tadla_bounds[0] > dem_bounds.left) &\n",
    "        (tadla_bounds[2] < dem_bounds.right) &\n",
    "        (tadla_bounds[1] > dem_bounds.bottom) &\n",
    "        (tadla_bounds[3] < dem_bounds.top)\n",
    "    ):\n",
    "        raise ValueError(\"DEM and boundary do not overlap. Check their geographic extents!\")\n",
    "\n",
    "    # Clip DEM\n",
    "    tadla_dem, transform = mask(src, tadla.geometry, crop=True)\n",
    "    meta = src.meta.copy()\n",
    "    meta.update({\n",
    "        \"height\": tadla_dem.shape[1],\n",
    "        \"width\": tadla_dem.shape[2],\n",
    "        \"transform\": transform,\n",
    "        \"crs\": dem_crs\n",
    "    })\n",
    "\n",
    "# Save clipped DEM\n",
    "with rasterio.open(dem_processed_path, \"w\", **meta) as dest:\n",
    "    dest.write(tadla_dem)\n",
    "print(f\"Clipped DEM saved to: {dem_processed_path}\")"
   ]
  },
  {
   "cell_type": "code",
   "execution_count": 31,
   "metadata": {},
   "outputs": [
    {
     "name": "stdout",
     "output_type": "stream",
     "text": [
      "DEM exists: True\n",
      "Boundary exists: True\n"
     ]
    }
   ],
   "source": [
    "print(f\"DEM exists: {dem_raw_path.exists()}\")\n",
    "print(f\"Boundary exists: {tadla_common_path.exists()}\")"
   ]
  },
  {
   "cell_type": "markdown",
   "metadata": {},
   "source": [
    "### 3. Derive Slope and Aspect"
   ]
  },
  {
   "cell_type": "markdown",
   "metadata": {},
   "source": [
    "1. Calculating Slope and Aspect Using GDAL"
   ]
  },
  {
   "cell_type": "code",
   "execution_count": 32,
   "metadata": {},
   "outputs": [],
   "source": [
    "from osgeo import gdal\n",
    "import os\n"
   ]
  },
  {
   "cell_type": "code",
   "execution_count": 33,
   "metadata": {},
   "outputs": [
    {
     "name": "stdout",
     "output_type": "stream",
     "text": [
      "Slope saved to: c:\\Users\\abdel\\OneDrive\\Desktop\\PFE_Project\\Data\\Processed\\GIS\\Topography\\tadla_slope.tif\n",
      "Aspect saved to: c:\\Users\\abdel\\OneDrive\\Desktop\\PFE_Project\\Data\\Processed\\GIS\\Topography\\tadla_aspect.tif\n"
     ]
    }
   ],
   "source": [
    "# Enable GDAL exceptions\n",
    "gdal.UseExceptions()\n",
    "\n",
    "# Ensure output directories exist\n",
    "os.makedirs(slope_path.parent, exist_ok=True)\n",
    "\n",
    "# Calculate slope\n",
    "slope = gdal.DEMProcessing(\n",
    "    destName=str(slope_path),\n",
    "    srcDS=str(dem_processed_path),\n",
    "    processing=\"slope\",\n",
    "    format=\"GTiff\",\n",
    "    slopeFormat=\"degree\"\n",
    ")\n",
    "\n",
    "# Calculate aspect\n",
    "aspect = gdal.DEMProcessing(\n",
    "    destName=str(aspect_path),\n",
    "    srcDS=str(dem_processed_path),\n",
    "    processing=\"aspect\",\n",
    "    format=\"GTiff\"\n",
    ")\n",
    "\n",
    "print(f\"Slope saved to: {slope_path}\")\n",
    "print(f\"Aspect saved to: {aspect_path}\")"
   ]
  },
  {
   "cell_type": "markdown",
   "metadata": {},
   "source": [
    "# Step 4: Weather Data"
   ]
  },
  {
   "cell_type": "markdown",
   "metadata": {},
   "source": [
    "1. Download CHIRPS Rainfall Data"
   ]
  },
  {
   "cell_type": "code",
   "execution_count": 34,
   "metadata": {},
   "outputs": [],
   "source": [
    "import ee\n",
    "\n",
    "# Authenticate and initialize GEE\n",
    "ee.Authenticate()\n",
    "ee.Initialize(project=project_id)\n",
    "\n",
    "# Load CHIRPS data\n",
    "chirps = ee.ImageCollection(\"UCSB-CHG/CHIRPS/DAILY\")\n",
    "\n",
    "# Define Tadla Plain geometry (use your boundary)\n",
    "tadla = ee.Geometry.Rectangle([-7.5, 32.0, -5.5, 32.8])\n",
    "\n",
    "# Filter and export\n",
    "chirps_tadla = chirps.filterBounds(tadla).filterDate('2010-01-01', '2023-12-31')\n",
    "task = ee.batch.Export.image.toDrive(\n",
    "    image=chirps_tadla.mean(),\n",
    "    description='CHIRPS_Tadla',\n",
    "    folder='Tadla_Project',\n",
    "    scale=5000,\n",
    "    region=tadla,\n",
    "    crs=\"EPSG:26191\"\n",
    ")\n",
    "task.start()"
   ]
  },
  {
   "cell_type": "markdown",
   "metadata": {},
   "source": [
    "2. Preprocess CHIRPS Rainfall Data"
   ]
  },
  {
   "cell_type": "code",
   "execution_count": 35,
   "metadata": {},
   "outputs": [
    {
     "name": "stdout",
     "output_type": "stream",
     "text": [
      "Boundary CRS: EPSG:26191\n"
     ]
    }
   ],
   "source": [
    "# Load boundary (EPSG:4326)\n",
    "boundary_path = tadla_common_path\n",
    "tadla = gpd.read_file(boundary_path)\n",
    "\n",
    "# Reproject boundary to EPSG:26191 (Merchich)\n",
    "tadla_merc = tadla.to_crs(\"EPSG:26191\")\n",
    "\n",
    "# Save reprojected boundary\n",
    "tadla_merc.to_file(boundary_path)  # Overwrite or save to a new file\n",
    "\n",
    "# Load Tadla boundary\n",
    "tadla = gpd.read_file(tadla_common_path)\n",
    "print(f\"Boundary CRS: {tadla.crs}\")  # Should be EPSG:26191 (Merchich)"
   ]
  },
  {
   "cell_type": "code",
   "execution_count": 36,
   "metadata": {},
   "outputs": [
    {
     "name": "stdout",
     "output_type": "stream",
     "text": [
      "Clipped CHIRPS data saved to: c:\\Users\\abdel\\OneDrive\\Desktop\\PFE_Project\\Data\\Processed\\Weather\\CHIRPS_Tadla_processed.tif\n"
     ]
    }
   ],
   "source": [
    "# Load Tadla boundary\n",
    "tadla = gpd.read_file(tadla_common_path)\n",
    "\n",
    "# Load CHIRPS data\n",
    "with rasterio.open(chirps_raw_path) as src:\n",
    "    chirps_data, transform = mask(src, tadla.geometry, crop=True)\n",
    "    meta = src.meta.copy()\n",
    "\n",
    "# Update metadata\n",
    "meta.update({\n",
    "    \"height\": chirps_data.shape[1],\n",
    "    \"width\": chirps_data.shape[2],\n",
    "    \"transform\": transform,\n",
    "    \"crs\": \"EPSG:26191\"\n",
    "})\n",
    "\n",
    "# Save clipped rainfall data\n",
    "with rasterio.open(chirps_processed_path, \"w\", **meta) as dest:\n",
    "    dest.write(chirps_data)\n",
    "\n",
    "print(f\"Clipped CHIRPS data saved to: {chirps_processed_path}\")"
   ]
  },
  {
   "cell_type": "markdown",
   "metadata": {},
   "source": [
    "3. Download ERA5 Temperature/ET Data"
   ]
  },
  {
   "cell_type": "code",
   "execution_count": 37,
   "metadata": {},
   "outputs": [
    {
     "name": "stdout",
     "output_type": "stream",
     "text": [
      "Available bands in ERA5 DAILY dataset: ['mean_2m_air_temperature', 'minimum_2m_air_temperature', 'maximum_2m_air_temperature', 'dewpoint_2m_temperature', 'total_precipitation', 'surface_pressure', 'mean_sea_level_pressure', 'u_component_of_wind_10m', 'v_component_of_wind_10m']\n",
      "Selected band: mean_2m_air_temperature\n",
      "Export task started with ID: RUHPHUNV74HQ6JBWJR7ZPDHY\n",
      "Monitor the task at: https://code.earthengine.google.com/tasks\n"
     ]
    }
   ],
   "source": [
    "import ee\n",
    "\n",
    "# Authenticate and initialize Earth Engine\n",
    "ee.Authenticate()\n",
    "ee.Initialize(project=project_id)\n",
    "\n",
    "\n",
    "# Define the bounding box for the Tadla Plain (in WGS84)\n",
    "bbox = ee.Geometry.Rectangle(\n",
    "   [-7.5, 32.0, -5.5, 32.8],  # minx, miny, maxx, maxy\n",
    "    proj=\"EPSG:4326\"\n",
    ")\n",
    "\n",
    "# Load the ERA5 DAILY ImageCollection for a chosen period and filter by location\n",
    "era5_daily = ee.ImageCollection(\"ECMWF/ERA5/DAILY\") \\\n",
    "    .filterDate(\"2010-01-01\", \"2023-12-31\") \\\n",
    "    .filterBounds(bbox)\n",
    "\n",
    "# Get the first image to inspect available bands\n",
    "first_img = ee.Image(era5_daily.first())\n",
    "band_names = first_img.bandNames().getInfo()\n",
    "print(\"Available bands in ERA5 DAILY dataset:\", band_names)\n",
    "\n",
    "# Choose the appropriate band.\n",
    "# For example, if you're aiming for evaporation data, check for \"evaporation\" or \"total_evaporation\"\n",
    "if \"evaporation\" in band_names:\n",
    "    selected_band = \"evaporation\"\n",
    "elif \"total_evaporation\" in band_names:\n",
    "    selected_band = \"total_evaporation\"\n",
    "else:\n",
    "    # If neither exists, default to the first available band (or update with the correct one)\n",
    "    selected_band = band_names[0]\n",
    "\n",
    "print(\"Selected band:\", selected_band)\n",
    "\n",
    "# Mosaic the collection to combine overlapping images and select the chosen band, then clip to your area\n",
    "era5_selected = era5_daily.select(selected_band).mosaic().clip(bbox)\n",
    "\n",
    "# Export the resulting image to your Google Drive\n",
    "task = ee.batch.Export.image.toDrive(\n",
    "    image=era5_selected,\n",
    "    description='ERA5_Evaporation_Export',\n",
    "    folder='ERA5_Exports',  # Your Google Drive folder name\n",
    "    scale=1000,             # Adjust scale (resolution) as needed\n",
    "    region=bbox,\n",
    "    crs=\"EPSG:26191\",        # Exporting in WGS84; change if needed\n",
    "    fileFormat='GeoTIFF',\n",
    "    maxPixels=1e13\n",
    ")\n",
    "task.start()\n",
    "\n",
    "print(\"Export task started with ID:\", task.id)\n",
    "print(\"Monitor the task at: https://code.earthengine.google.com/tasks\")\n"
   ]
  },
  {
   "cell_type": "code",
   "execution_count": 38,
   "metadata": {},
   "outputs": [
    {
     "name": "stdout",
     "output_type": "stream",
     "text": [
      "Clipped ERA5 data saved to: c:\\Users\\abdel\\OneDrive\\Desktop\\PFE_Project\\Data\\Processed\\Weather\\ERA5_Tadla_processed.tif\n"
     ]
    }
   ],
   "source": [
    "# Load Tadla boundary\n",
    "tadla = gpd.read_file(tadla_common_path)\n",
    "# Clip ERA5 data to Tadla boundary\n",
    "with rasterio.open(era5_raw_path) as src:\n",
    "    era5_data, transform = mask(src, tadla.geometry, crop=True)\n",
    "    meta = src.meta.copy()\n",
    "    meta.update({\n",
    "        \"height\": era5_data.shape[1],\n",
    "        \"width\": era5_data.shape[2],\n",
    "        \"transform\": transform,\n",
    "        \"crs\": src.crs  # Ensure this matches the boundary CRS (EPSG:26191)\n",
    "    })\n",
    "\n",
    "# Save clipped ERA5 data\n",
    "with rasterio.open(era5_processed_path, \"w\", **meta) as dest:\n",
    "    dest.write(era5_data)\n",
    "\n",
    "print(f\"Clipped ERA5 data saved to: {era5_processed_path}\")"
   ]
  },
  {
   "cell_type": "markdown",
   "metadata": {},
   "source": [
    "# Step 5: Land Use/Crop Maps (Sentinel-2)"
   ]
  },
  {
   "cell_type": "markdown",
   "metadata": {},
   "source": [
    "1. Authenticate & Initialize Earth Engine"
   ]
  },
  {
   "cell_type": "code",
   "execution_count": 39,
   "metadata": {},
   "outputs": [
    {
     "name": "stdout",
     "output_type": "stream",
     "text": [
      "Earth Engine has been initialized successfully!\n"
     ]
    }
   ],
   "source": [
    "import ee\n",
    "\n",
    "# Authenticate (this will open a browser window for authentication if needed)\n",
    "ee.Authenticate()\n",
    "\n",
    "# Initialize with your project settings (make sure you have set your GCP_PROJECT in your environment variables)\n",
    "ee.Initialize(project=project_id)\n",
    "\n",
    "print(\"Earth Engine has been initialized successfully!\")\n"
   ]
  },
  {
   "cell_type": "code",
   "execution_count": 40,
   "metadata": {},
   "outputs": [],
   "source": [
    "tadla = gpd.read_file(tadla_common_path)\n",
    "\n",
    "# Reproject to WGS84 (EPSG:4326) if needed\n",
    "if tadla.crs != \"EPSG:26191\":\n",
    "    tadla = tadla.to_crs(\"EPSG:26191\")\n",
    "\n",
    "# Convert to GEE geometry\n",
    "tadla_geom = ee.Geometry.Polygon(tadla.geometry[0].exterior.coords[:])"
   ]
  },
  {
   "cell_type": "code",
   "execution_count": 41,
   "metadata": {},
   "outputs": [],
   "source": [
    "# Load Tadla boundary (WGS84)\n",
    "tadla_geom = ee.Geometry.Polygon(\n",
    "    [[-7.5, 32.0], [-5.5, 32.0], [-5.5, 32.8], [-7.5, 32.8]], \n",
    "    proj=\"EPSG:4326\", \n",
    "    geodesic=False\n",
    ")\n",
    "\n",
    "# Reproject to EPSG:26191 (Merchich)\n",
    "tadla_merc = tadla_geom.transform('EPSG:26191', 1)  # 1-meter error margin"
   ]
  },
  {
   "cell_type": "code",
   "execution_count": 42,
   "metadata": {},
   "outputs": [],
   "source": [
    "def get_annual_composite(year):\n",
    "    start_date = f'{year}-04-01'\n",
    "    end_date = f'{year}-09-30'\n",
    "    \n",
    "    # Load Sentinel-2 collection\n",
    "    s2_collection = ee.ImageCollection(\"COPERNICUS/S2_SR_HARMONIZED\") \\\n",
    "        .filterBounds(tadla_merc) \\\n",
    "        .filterDate(start_date, end_date) \\\n",
    "        .filter(ee.Filter.lt('CLOUDY_PIXEL_PERCENTAGE', 10))\n",
    "    \n",
    "    # Harmonize bands: Select and rename critical bands (B4=Red, B8=NIR)\n",
    "    s2_harmonized = s2_collection.map(\n",
    "        lambda img: img.select(\n",
    "            ['B4', 'B8', 'SCL'],  # Keep only Red, NIR, and Scene Classification\n",
    "            ['red', 'nir', 'scl']  # Rename to avoid conflicts\n",
    "        ).cast({'red': 'float', 'nir': 'float'})  # Force consistent data types\n",
    "    )\n",
    "    \n",
    "    # Compute median composite\n",
    "    composite = s2_harmonized.median()\n",
    "    \n",
    "    # Calculate NDVI\n",
    "    ndvi = composite.expression(\n",
    "        '(nir - red) / (nir + red)', \n",
    "        {'nir': composite.select('nir'), 'red': composite.select('red')}\n",
    "    ).rename('NDVI')\n",
    "    \n",
    "    return ndvi.reproject(crs='EPSG:26191', scale=10)"
   ]
  },
  {
   "cell_type": "code",
   "execution_count": 46,
   "metadata": {},
   "outputs": [
    {
     "name": "stdout",
     "output_type": "stream",
     "text": [
      "Exported 2017: Task ID JZESG5MUJ3OI2IR3ZXW2FG6W\n",
      "Exported 2018: Task ID G3TGWNTGA3RGIA575FJBQMJT\n",
      "Exported 2019: Task ID RMM4OX4K5MZWPHS7UDMCGSAK\n",
      "Exported 2020: Task ID N3IJYFGHIYMLZQ6ZKVHPNX4H\n",
      "Exported 2021: Task ID UG4PO4BPT5CH7RUFSPEXFTF6\n",
      "Exported 2022: Task ID MAO57GCKKOJUCLYP37DPE5GJ\n",
      "Exported 2023: Task ID 7NYZJZ3IUZSVASN4NLI4ZVP7\n"
     ]
    }
   ],
   "source": [
    "def export_ndvi(year):\n",
    "    ndvi = get_annual_composite(year)\n",
    "    task = ee.batch.Export.image.toDrive(\n",
    "        image=ndvi,\n",
    "        description=f'Sentinel2_Tadla_NDVI_{year}',\n",
    "        folder='Tadla_Project',\n",
    "        scale=10,\n",
    "        region=tadla_merc,\n",
    "        crs='EPSG:26191',\n",
    "        maxPixels=1e13,\n",
    "        fileFormat='GeoTIFF'\n",
    "    )\n",
    "    task.start()\n",
    "    print(f\"Exported {year}: Task ID {task.id}\")\n",
    "\n",
    "# Run for all years (2017–2023)\n",
    "for year in range(2017, 2024):\n",
    "    export_ndvi(year)"
   ]
  },
  {
   "cell_type": "markdown",
   "metadata": {},
   "source": [
    "# Step 6 – Data Harmonization"
   ]
  },
  {
   "cell_type": "markdown",
   "metadata": {},
   "source": [
    "1. Resample Coarser Data to 10m"
   ]
  },
  {
   "cell_type": "code",
   "execution_count": null,
   "metadata": {},
   "outputs": [],
   "source": [
    "import rasterio\n",
    "from rasterio.warp import reproject, Resampling\n",
    "\n",
    "# Open soil data (250m)\n",
    "with rasterio.open(soil_raw_path) as src:\n",
    "    soil_data = src.read(1)\n",
    "    soil_profile = src.profile.copy()\n",
    "\n",
    "# Define target resolution (10m)\n",
    "target_transform = rasterio.Affine(10, 0, src.bounds.left, 0, -10, src.bounds.top)\n",
    "\n",
    "# Resample using bilinear interpolation\n",
    "soil_resampled = np.empty((src.height * 25, src.width * 25), dtype=np.float32)  # 250m→10m (25x)\n",
    "reproject(\n",
    "    soil_data, soil_resampled,\n",
    "    src_transform=src.transform,\n",
    "    dst_transform=target_transform,\n",
    "    src_crs=src.crs,\n",
    "    dst_crs=src.crs,\n",
    "    resampling=Resampling.bilinear\n",
    ")\n",
    "\n",
    "# Save resampled soil data\n",
    "soil_profile.update({\n",
    "    \"transform\": target_transform,\n",
    "    \"width\": soil_resampled.shape[1],\n",
    "    \"height\": soil_resampled.shape[0]\n",
    "})\n",
    "with rasterio.open(soil_processed_path, \"w\", **soil_profile) as dst:\n",
    "    dst.write(soil_resampled, 1)"
   ]
  }
 ],
 "metadata": {
  "kernelspec": {
   "display_name": "Python 3",
   "language": "python",
   "name": "python3"
  },
  "language_info": {
   "codemirror_mode": {
    "name": "ipython",
    "version": 3
   },
   "file_extension": ".py",
   "mimetype": "text/x-python",
   "name": "python",
   "nbconvert_exporter": "python",
   "pygments_lexer": "ipython3",
   "version": "3.12.0"
  }
 },
 "nbformat": 4,
 "nbformat_minor": 2
}
