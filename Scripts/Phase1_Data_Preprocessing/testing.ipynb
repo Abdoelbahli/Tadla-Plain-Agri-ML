{
 "cells": [
  {
   "cell_type": "code",
   "execution_count": 2,
   "metadata": {},
   "outputs": [],
   "source": [
    "import os\n",
    "import yaml\n",
    "from pathlib import Path\n",
    "import geopandas as gpd\n",
    "\n",
    "import matplotlib.pyplot as plt\n",
    "from matplotlib.patches import Patch\n",
    "\n",
    "import rasterio\n",
    "from rasterio.warp import calculate_default_transform, reproject, Resampling\n",
    "from rasterio.mask import mask\n",
    "from rasterio.plot import show\n",
    "\n",
    "import requests\n",
    "import numpy as np\n",
    "\n",
    "from dotenv import load_dotenv\n",
    "from osgeo import gdal\n",
    "import ee\n",
    "\n",
    "import xarray as xr\n",
    "import rioxarray\n",
    "\n",
    "import rioxarray as rxr\n",
    "from dask.distributed import Client, LocalCluster\n",
    "import pandas as pd"
   ]
  },
  {
   "cell_type": "code",
   "execution_count": 5,
   "metadata": {},
   "outputs": [],
   "source": [
    "# Get project root (adjust based on your folder depth)\n",
    "current_dir = Path(os.getcwd())\n",
    "project_root = current_dir.parent.parent  # Navigate up from \"Scripts/Phase1_Data_Preprocessing\"\n",
    "\n",
    "with open(project_root / \"config.yml\", \"r\") as f:\n",
    "    config = yaml.safe_load(f)\n",
    "\n",
    "\n",
    "raw_data_dir = project_root / config[\"paths\"][\"raw_data\"]\n",
    "\n",
    "# Processed data paths\n",
    "processed_data_dir = project_root / config[\"paths\"][\"processed_data\"]\n",
    "soil_processed_dir = processed_data_dir / \"GIS/Soil\"\n",
    "output_dir = processed_data_dir / \"GIS/Study_Area_Boundary\"\n",
    "output_path = output_dir / \"Tadla_plain_common.shp\"\n",
    "tadla_common_path = processed_data_dir / config[\"paths\"][\"tadla_boundary_processed\"]\n",
    "soil_processed_path = processed_data_dir / config[\"paths\"][\"soil_processed\"]\n",
    "dem_processed_path = processed_data_dir / config[\"paths\"][\"dem_processed\"]\n",
    "slope_path = processed_data_dir / \"GIS/Topography/tadla_slope.tif\"\n",
    "aspect_path = processed_data_dir / \"GIS/Topography/tadla_aspect.tif\"\n",
    "chirps_processed_path = processed_data_dir / config[\"paths\"][\"chirps_processed\"]\n",
    "era5_processed_path = processed_data_dir / config[\"paths\"][\"era5_processed\"]\n",
    "wv0010_processed_path = processed_data_dir / config[\"paths\"][\"wv0010_processed\"]\n",
    "topography_processed_dir = processed_data_dir / \"GIS/Topography\"\n",
    "\n",
    "land_use_processed_dir = processed_data_dir / config[\"paths\"][\"land_use_processed\"]\n",
    "\n",
    "weather_processed_dir = processed_data_dir / \"Weather\"\n",
    "chirps_output_dir = Path(config[\"paths\"][\"chirps_dir\"])\n"
   ]
  },
  {
   "cell_type": "code",
   "execution_count": 6,
   "metadata": {},
   "outputs": [],
   "source": [
    "def validate_spatial_alignment(reference_path):\n",
    "    \"\"\"Check CRS, resolution, and transform across all datasets.\"\"\"\n",
    "    ref = rasterio.open(reference_path)\n",
    "    layers = [\n",
    "        Path(soil_processed_dir / \"tadla_clay_10m.tif\"),\n",
    "        Path(dem_processed_path),\n",
    "        Path(land_use_processed_dir / \"Sentinel2_Tadla_NDVI_2023.tif\"),\n",
    "        Path(weather_processed_dir / \"CHIRPS_Annual/CHIRPS_2023_reproj.tif\"),\n",
    "        Path(weather_processed_dir / \"ERA5_Annual/ERA5_2023_reproj.tif\")\n",
    "    ]\n",
    "    \n",
    "    print(\"=== Spatial Alignment Check ===\")\n",
    "    for layer in layers:\n",
    "        with rasterio.open(layer) as src:\n",
    "            if src.crs != ref.crs:\n",
    "                print(f\"❌ CRS mismatch: {layer.name} (EPSG:{src.crs.to_epsg()})\")\n",
    "            if src.res != ref.res:\n",
    "                print(f\"❌ Resolution mismatch: {layer.name} ({src.res}m)\")\n",
    "            if src.transform != ref.transform:\n",
    "                print(f\"❌ Transform mismatch: {layer.name}\")\n",
    "    \n",
    "    print(\"✅ Spatial alignment validated (CRS: EPSG:26191, Res: 10m)\")\n"
   ]
  },
  {
   "cell_type": "code",
   "execution_count": 7,
   "metadata": {},
   "outputs": [
    {
     "name": "stdout",
     "output_type": "stream",
     "text": [
      "=== Spatial Alignment Check ===\n",
      "✅ Spatial alignment validated (CRS: EPSG:26191, Res: 10m)\n"
     ]
    }
   ],
   "source": [
    "ndvi_ref =  raw_data_dir / config[\"paths\"][\"ndvi_raw\"]\n",
    "validate_spatial_alignment(ndvi_ref)"
   ]
  },
  {
   "cell_type": "code",
   "execution_count": 9,
   "metadata": {},
   "outputs": [],
   "source": [
    "def validate_temporal_bands(years=range(2017, 2024)):\n",
    "    \"\"\"Verify 12 bands (months) exist in annual CHIRPS/ERA5 files.\"\"\"\n",
    "    print(\"\\n=== Temporal Band Check ===\")\n",
    "    for year in years:\n",
    "        chirps_path = weather_processed_dir / f\"CHIRPS_Annual/CHIRPS_{year}_reproj.tif\"\n",
    "        era5_path = weather_processed_dir / f\"ERA5_Annual/ERA5_{year}_reproj.tif\"\n",
    "        \n",
    "        for path in [chirps_path, era5_path]:\n",
    "            if not path.exists():\n",
    "                print(f\"❌ Missing: {path.name}\")\n",
    "                continue\n",
    "            with rasterio.open(path) as src:\n",
    "                if src.count != 12:\n",
    "                    print(f\"❌ {path.name}: {src.count} bands (expected 12)\")\n",
    "\n",
    "    print(\"✅ Temporal bands validated\")\n"
   ]
  },
  {
   "cell_type": "code",
   "execution_count": 10,
   "metadata": {},
   "outputs": [
    {
     "name": "stdout",
     "output_type": "stream",
     "text": [
      "\n",
      "=== Temporal Band Check ===\n",
      "✅ Temporal bands validated\n"
     ]
    }
   ],
   "source": [
    "validate_temporal_bands()"
   ]
  },
  {
   "cell_type": "code",
   "execution_count": 12,
   "metadata": {},
   "outputs": [],
   "source": [
    "def validate_nodata():\n",
    "    \"\"\"Ensure NoData = -9999 and valid data ranges.\"\"\"\n",
    "    print(\"\\n=== NoData & Value Ranges ===\")\n",
    "    layers = {\n",
    "        \"Soil_Clay\": (Path(soil_processed_dir / \"tadla_clay_10m.tif\"), (0, 100)),  # %\n",
    "        \"NDVI\": (Path(land_use_processed_dir / \"Sentinel2_Tadla_NDVI_2023.tif\"), (-1, 1)),\n",
    "        \"CHIRPS\": (Path(weather_processed_dir / \"CHIRPS_Annual/CHIRPS_2023_reproj.tif\"), (0, 500)),  # mm/month\n",
    "        \"DEM\": (Path(dem_processed_path), (0, 2000))  # meters\n",
    "    }\n",
    "    \n",
    "    for name, (path, expected_range) in layers.items():\n",
    "        with rasterio.open(path) as src:\n",
    "            data = src.read(1)\n",
    "            valid_data = data[data != src.nodata]\n",
    "            \n",
    "            # Check NoData\n",
    "            if src.nodata != -9999:\n",
    "                print(f\"❌ {name}: NoData = {src.nodata} (expected -9999)\")\n",
    "            \n",
    "            # Check value ranges\n",
    "            min_val, max_val = np.nanmin(valid_data), np.nanmax(valid_data)\n",
    "            if min_val < expected_range[0] or max_val > expected_range[1]:\n",
    "                print(f\"⚠️ {name}: Values ({min_val:.2f}-{max_val:.2f}) outside expected {expected_range}\")\n",
    "\n",
    "    print(\"✅ NoData & ranges validated\")\n"
   ]
  },
  {
   "cell_type": "code",
   "execution_count": 13,
   "metadata": {},
   "outputs": [
    {
     "name": "stdout",
     "output_type": "stream",
     "text": [
      "\n",
      "=== NoData & Value Ranges ===\n",
      "❌ NDVI: NoData = None (expected -9999)\n",
      "⚠️ DEM: Values (0.00-3242.00) outside expected (0, 2000)\n",
      "✅ NoData & ranges validated\n"
     ]
    }
   ],
   "source": [
    "validate_nodata()"
   ]
  },
  {
   "cell_type": "code",
   "execution_count": null,
   "metadata": {},
   "outputs": [],
   "source": []
  },
  {
   "cell_type": "code",
   "execution_count": null,
   "metadata": {},
   "outputs": [],
   "source": []
  }
 ],
 "metadata": {
  "kernelspec": {
   "display_name": "Python 3",
   "language": "python",
   "name": "python3"
  },
  "language_info": {
   "codemirror_mode": {
    "name": "ipython",
    "version": 3
   },
   "file_extension": ".py",
   "mimetype": "text/x-python",
   "name": "python",
   "nbconvert_exporter": "python",
   "pygments_lexer": "ipython3",
   "version": "3.12.0"
  }
 },
 "nbformat": 4,
 "nbformat_minor": 2
}
